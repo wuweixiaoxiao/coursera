{
 "cells": [
  {
   "cell_type": "markdown",
   "metadata": {},
   "source": [
    "# Coursera Data Science Capstone - Final Project Report\n",
    "## Worcester Neighborhoods"
   ]
  },
  {
   "cell_type": "markdown",
   "metadata": {},
   "source": [
    "### Introduction:"
   ]
  },
  {
   "cell_type": "markdown",
   "metadata": {},
   "source": [
    "**A description of the background.**\n",
    "\n",
    "Our family live in Worcester County, MA. My husband has recently got a job in Boylston and his new office is located almost 15 miles away from home. This means his daily travel time is close to 1.5 hours. We are considering moving closer to his office to save time. We currently stay in the neighborhood of the city of Worcester, which is in the west of Worcester County, and his office is in Boylston, which is in the east of Worcester County. We don’t have to stay in Boylston where has a relatively high rent price. But we prefer moving to a neighborhood closer to his workplace and similar to our current neighborhood of Worcester.\n",
    "\n",
    "**A discussion of the problems.**\n",
    "1.\tWhich neighborhoods in Worcester County are good choices for our family to move to?\n",
    "2.\tThese candidate neighborhoods should be both close to my husband’s new office and similar to our current living environment."
   ]
  },
  {
   "cell_type": "markdown",
   "metadata": {},
   "source": [
    "### Data:"
   ]
  },
  {
   "cell_type": "markdown",
   "metadata": {},
   "source": [
    "**To address this problem, we need:**\n",
    "\n",
    "1. Geographical Data of Worcester County neighborhoods - latitude and longitude details of the cities in Worcester County \n",
    "2. Neighborhoods Environment Data - data describing interests and venues within a given radius\n",
    "\n",
    "**Sources of Data:**\n",
    "For the latitude and longitude coordinates of neighborhoods, our primary source of information is the following Wikipedia page: https://en.wikipedia.org/wiki/Worcester_County,_Massachusetts\n",
    "\n",
    "- This wiki page comprises a list of links to 60 cities/towns neighborhoods. Each link contains the latitude and longitude of that particular location. Hence, we can compile a database of 88 neighborhoods in Worcester County from these wiki pages, using a web-scraping tool i.e. *BeautifulSoup*. \n",
    "\n",
    "- For neighborhood environment details, we use the Foursquare database. Since we are interested in the character and composition of each neighborhood, we use the ‘explore’ endpoint to learn about the popular venues in each neighborhood. \n",
    "\n",
    "- We will run a unsupervised k-means clustering model to look for similar locations as our current neighborhood.\n"
   ]
  },
  {
   "cell_type": "code",
   "execution_count": null,
   "metadata": {},
   "outputs": [],
   "source": []
  }
 ],
 "metadata": {
  "kernelspec": {
   "display_name": "Python 3",
   "language": "python",
   "name": "python3"
  },
  "language_info": {
   "codemirror_mode": {
    "name": "ipython",
    "version": 3
   },
   "file_extension": ".py",
   "mimetype": "text/x-python",
   "name": "python",
   "nbconvert_exporter": "python",
   "pygments_lexer": "ipython3",
   "version": "3.6.5"
  }
 },
 "nbformat": 4,
 "nbformat_minor": 2
}
